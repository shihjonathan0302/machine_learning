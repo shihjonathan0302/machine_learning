{
 "cells": [
  {
   "cell_type": "markdown",
   "id": "b5ef6aa8",
   "metadata": {},
   "source": [
    "# 3 Decision Tree"
   ]
  },
  {
   "cell_type": "markdown",
   "id": "327b172a",
   "metadata": {},
   "source": [
    "This notebook uses the same dataset to demonstrate the machine learning model."
   ]
  },
  {
   "cell_type": "code",
   "execution_count": null,
   "id": "d48542af",
   "metadata": {},
   "outputs": [],
   "source": [
    "import pandas as pd\n",
    "df = pd.read_csv(\"ml_customer_data.csv\")\n",
    "df.head()"
   ]
  },
  {
   "cell_type": "code",
   "execution_count": null,
   "id": "531cb5f7",
   "metadata": {},
   "outputs": [],
   "source": [
    "from sklearn.model_selection import train_test_split\n",
    "from sklearn.tree import DecisionTreeClassifier\n",
    "from sklearn.metrics import accuracy_score\n",
    "\n",
    "X = df[['age', 'salary']]\n",
    "y = df['purchased']\n",
    "\n",
    "X_train, X_test, y_train, y_test = train_test_split(X, y, test_size=0.3, random_state=42)\n",
    "model = DecisionTreeClassifier()\n",
    "model.fit(X_train, y_train)\n",
    "y_pred = model.predict(X_test)\n",
    "\n",
    "print(\"Accuracy:\", accuracy_score(y_test, y_pred))"
   ]
  }
 ],
 "metadata": {},
 "nbformat": 4,
 "nbformat_minor": 5
}
