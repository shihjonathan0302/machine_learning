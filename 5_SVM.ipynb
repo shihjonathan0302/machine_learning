{
 "cells": [
  {
   "cell_type": "markdown",
   "id": "561a0e6d",
   "metadata": {},
   "source": [
    "# 5 SVM"
   ]
  },
  {
   "cell_type": "markdown",
   "id": "ce87ce91",
   "metadata": {},
   "source": [
    "This notebook uses the same dataset to demonstrate the machine learning model."
   ]
  },
  {
   "cell_type": "code",
   "execution_count": null,
   "id": "9b40adad",
   "metadata": {},
   "outputs": [],
   "source": [
    "import pandas as pd\n",
    "df = pd.read_csv(\"ml_customer_data.csv\")\n",
    "df.head()"
   ]
  },
  {
   "cell_type": "code",
   "execution_count": null,
   "id": "78a8b353",
   "metadata": {},
   "outputs": [],
   "source": [
    "from sklearn.model_selection import train_test_split\n",
    "from sklearn.svm import SVC\n",
    "from sklearn.metrics import accuracy_score\n",
    "\n",
    "X = df[['age', 'salary']]\n",
    "y = df['purchased']\n",
    "\n",
    "X_train, X_test, y_train, y_test = train_test_split(X, y, test_size=0.3, random_state=42)\n",
    "model = SVC()\n",
    "model.fit(X_train, y_train)\n",
    "y_pred = model.predict(X_test)\n",
    "\n",
    "print(\"Accuracy:\", accuracy_score(y_test, y_pred))"
   ]
  }
 ],
 "metadata": {},
 "nbformat": 4,
 "nbformat_minor": 5
}
