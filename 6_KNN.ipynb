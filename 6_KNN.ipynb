{
 "cells": [
  {
   "cell_type": "markdown",
   "id": "131f7cbe",
   "metadata": {},
   "source": [
    "# 6 KNN"
   ]
  },
  {
   "cell_type": "markdown",
   "id": "70f3b5eb",
   "metadata": {},
   "source": [
    "This notebook uses the same dataset to demonstrate the machine learning model."
   ]
  },
  {
   "cell_type": "code",
   "execution_count": null,
   "id": "ca3282f9",
   "metadata": {},
   "outputs": [],
   "source": [
    "import pandas as pd\n",
    "df = pd.read_csv(\"ml_customer_data.csv\")\n",
    "df.head()"
   ]
  },
  {
   "cell_type": "code",
   "execution_count": null,
   "id": "6e377ecd",
   "metadata": {},
   "outputs": [],
   "source": [
    "from sklearn.model_selection import train_test_split\n",
    "from sklearn.neighbors import KNeighborsClassifier\n",
    "from sklearn.metrics import accuracy_score\n",
    "\n",
    "X = df[['age', 'salary']]\n",
    "y = df['purchased']\n",
    "\n",
    "X_train, X_test, y_train, y_test = train_test_split(X, y, test_size=0.3, random_state=42)\n",
    "model = KNeighborsClassifier()\n",
    "model.fit(X_train, y_train)\n",
    "y_pred = model.predict(X_test)\n",
    "\n",
    "print(\"Accuracy:\", accuracy_score(y_test, y_pred))"
   ]
  }
 ],
 "metadata": {},
 "nbformat": 4,
 "nbformat_minor": 5
}
