{
 "cells": [
  {
   "cell_type": "markdown",
   "id": "561a0e6d",
   "metadata": {},
   "source": [
    "# 5. SVM"
   ]
  },
  {
   "cell_type": "code",
   "execution_count": 2,
   "id": "9b40adad",
   "metadata": {},
   "outputs": [
    {
     "data": {
      "text/html": [
       "<div>\n",
       "<style scoped>\n",
       "    .dataframe tbody tr th:only-of-type {\n",
       "        vertical-align: middle;\n",
       "    }\n",
       "\n",
       "    .dataframe tbody tr th {\n",
       "        vertical-align: top;\n",
       "    }\n",
       "\n",
       "    .dataframe thead th {\n",
       "        text-align: right;\n",
       "    }\n",
       "</style>\n",
       "<table border=\"1\" class=\"dataframe\">\n",
       "  <thead>\n",
       "    <tr style=\"text-align: right;\">\n",
       "      <th></th>\n",
       "      <th>age</th>\n",
       "      <th>salary</th>\n",
       "      <th>purchased</th>\n",
       "    </tr>\n",
       "  </thead>\n",
       "  <tbody>\n",
       "    <tr>\n",
       "      <th>0</th>\n",
       "      <td>56</td>\n",
       "      <td>19000</td>\n",
       "      <td>0</td>\n",
       "    </tr>\n",
       "    <tr>\n",
       "      <th>1</th>\n",
       "      <td>46</td>\n",
       "      <td>85588</td>\n",
       "      <td>1</td>\n",
       "    </tr>\n",
       "    <tr>\n",
       "      <th>2</th>\n",
       "      <td>32</td>\n",
       "      <td>53304</td>\n",
       "      <td>1</td>\n",
       "    </tr>\n",
       "    <tr>\n",
       "      <th>3</th>\n",
       "      <td>60</td>\n",
       "      <td>84449</td>\n",
       "      <td>1</td>\n",
       "    </tr>\n",
       "    <tr>\n",
       "      <th>4</th>\n",
       "      <td>25</td>\n",
       "      <td>97986</td>\n",
       "      <td>0</td>\n",
       "    </tr>\n",
       "  </tbody>\n",
       "</table>\n",
       "</div>"
      ],
      "text/plain": [
       "   age  salary  purchased\n",
       "0   56   19000          0\n",
       "1   46   85588          1\n",
       "2   32   53304          1\n",
       "3   60   84449          1\n",
       "4   25   97986          0"
      ]
     },
     "execution_count": 2,
     "metadata": {},
     "output_type": "execute_result"
    }
   ],
   "source": [
    "# Load and Preview Data\n",
    "import pandas as pd\n",
    "df = pd.read_csv(\"ml_customer_data.csv\")\n",
    "df.head()"
   ]
  },
  {
   "cell_type": "code",
   "execution_count": 4,
   "id": "78a8b353",
   "metadata": {},
   "outputs": [],
   "source": [
    "# Split Features and Target\n",
    "from sklearn.model_selection import train_test_split\n",
    "X = df[['age', 'salary']]\n",
    "y = df['purchased']\n",
    "\n",
    "X_train, X_test, y_train, y_test = train_test_split(\n",
    "    X, y, test_size=0.3, random_state=42\n",
    ")\n"
   ]
  },
  {
   "cell_type": "code",
   "execution_count": 6,
   "id": "7993fa0d-2f7a-4484-9a50-cbbdefd6eebd",
   "metadata": {},
   "outputs": [],
   "source": [
    "# Train the Support Vector Machine model\n",
    "from sklearn.svm import SVC\n",
    "model = SVC(probability=True, random_state=42)\n",
    "model.fit(X_train, y_train)\n",
    "\n",
    "# Make predictions\n",
    "y_pred = model.predict(X_test)"
   ]
  },
  {
   "cell_type": "code",
   "execution_count": 8,
   "id": "58eee027-fbfe-4a2c-8bc5-630a55e930d8",
   "metadata": {},
   "outputs": [],
   "source": [
    "# Evaluate Model\n",
    "from sklearn.metrics import (\n",
    "    accuracy_score,\n",
    "    confusion_matrix,\n",
    "    classification_report\n",
    ")\n"
   ]
  },
  {
   "cell_type": "code",
   "execution_count": 14,
   "id": "6ab0d1cd-f7cc-441e-902b-362724ea499c",
   "metadata": {},
   "outputs": [
    {
     "name": "stdout",
     "output_type": "stream",
     "text": [
      "Accuracy: 0.6933333333333334\n",
      "Confusion Matrix:\n",
      "[[60 32]\n",
      " [14 44]]\n"
     ]
    }
   ],
   "source": [
    "# Accuracy\n",
    "accuracy = accuracy_score(y_test, y_pred)\n",
    "print(\"Accuracy:\", accuracy)\n",
    "\n",
    "# Confusion matrix\n",
    "cm = confusion_matrix(y_test, y_pred)\n",
    "tn, fp, fn, tp = cm.ravel()\n",
    "\n",
    "print(\"Confusion Matrix:\")\n",
    "print(cm)"
   ]
  },
  {
   "cell_type": "code",
   "execution_count": 18,
   "id": "89b981b8-a4f3-4994-85b8-3a82f16b83f8",
   "metadata": {},
   "outputs": [
    {
     "name": "stdout",
     "output_type": "stream",
     "text": [
      " Precision: 0.579\n",
      " Recall (Sensitivity): 0.759\n",
      " F1-score: 0.657\n",
      " Specificity: 0.652\n",
      " False Positive Rate (FPR): 0.348\n",
      " False Negative Rate (FNR): 0.241\n"
     ]
    }
   ],
   "source": [
    "# Derived Metrics\n",
    "precision = tp / (tp + fp) if (tp + fp) else 0\n",
    "recall = tp / (tp + fn) if (tp + fn) else 0\n",
    "f1 = 2 * precision * recall / (precision + recall) if (precision + recall) else 0\n",
    "specificity = tn / (tn + fp) if (tn + fp) else 0\n",
    "fpr = fp / (fp + tn) if (fp + tn) else 0\n",
    "fnr = fn / (fn + tp) if (fn + tp) else 0\n",
    "\n",
    "print(f\" Precision: {precision:.3f}\")\n",
    "print(f\" Recall (Sensitivity): {recall:.3f}\")\n",
    "print(f\" F1-score: {f1:.3f}\")\n",
    "print(f\" Specificity: {specificity:.3f}\")\n",
    "print(f\" False Positive Rate (FPR): {fpr:.3f}\")\n",
    "print(f\" False Negative Rate (FNR): {fnr:.3f}\")\n"
   ]
  },
  {
   "cell_type": "code",
   "execution_count": 20,
   "id": "b50cdee1-ab68-46d1-a53c-1e90fc36499e",
   "metadata": {},
   "outputs": [
    {
     "name": "stdout",
     "output_type": "stream",
     "text": [
      "\n",
      "📄 Classification Report:\n",
      "              precision    recall  f1-score   support\n",
      "\n",
      "           0       0.81      0.65      0.72        92\n",
      "           1       0.58      0.76      0.66        58\n",
      "\n",
      "    accuracy                           0.69       150\n",
      "   macro avg       0.69      0.71      0.69       150\n",
      "weighted avg       0.72      0.69      0.70       150\n",
      "\n"
     ]
    }
   ],
   "source": [
    "# Classification report\n",
    "print(\"\\n📄 Classification Report:\")\n",
    "print(classification_report(y_test, y_pred))"
   ]
  },
  {
   "cell_type": "code",
   "execution_count": 22,
   "id": "41737b09-606d-43a8-b99c-44b3b93a470f",
   "metadata": {},
   "outputs": [
    {
     "name": "stdout",
     "output_type": "stream",
     "text": [
      "First 5 Predicted Probabilities:\n",
      "[[0.31078761 0.68921239]\n",
      " [0.8945439  0.1054561 ]\n",
      " [0.43401511 0.56598489]\n",
      " [0.65006432 0.34993568]\n",
      " [0.84302796 0.15697204]]\n"
     ]
    }
   ],
   "source": [
    "# Predict class probabilities (optional)\n",
    "y_proba = model.predict_proba(X_test)\n",
    "print(\"First 5 Predicted Probabilities:\")\n",
    "print(y_proba[:5])"
   ]
  },
  {
   "cell_type": "markdown",
   "id": "7c75bd1c-c518-4053-92ec-2d67c711abe7",
   "metadata": {},
   "source": [
    "## Model Summary\n",
    "\n",
    "This section summarizes the performance and interpretation of the Support Vector Machine classifier trained to predict whether a customer will purchase based on their age and salary.\n",
    "\n",
    "**Accuracy:**  \n",
    "0.6933  \n",
    "The model correctly predicted purchase behavior with **69.33%** accuracy.\n",
    "\n",
    "---\n",
    "\n",
    "**Confusion Matrix:**  \n",
    "\n",
    "| Actual \\\\ Predicted | Predicted 0 (No Purchase) | Predicted 1 (Purchase) |\n",
    "|---------------------|----------------------------|-------------------------|\n",
    "| Actual 0            | 60 (True Negative)         | 32 (False Positive)     |\n",
    "| Actual 1            | 14 (False Negative)        | 44 (True Positive)      |\n",
    "\n",
    "- The model misclassified 46 out of 150 customers.\n",
    "- It missed 14 real buyers (FN) and wrongly labeled 32 non-buyers as buyers (FP).\n",
    "\n",
    "---\n",
    "\n",
    "**Classification Report:**\n",
    "\n",
    "| Class | Precision | Recall | F1-score | Support |\n",
    "|-------|-----------|--------|----------|---------|\n",
    "| 0     | 0.81      | 0.65   | 0.72     | 92      |\n",
    "| 1     | 0.58      | 0.76   | 0.66     | 58      |\n",
    "| **Overall Accuracy** | — | — | **0.69** | 150     |\n",
    "| **Macro Avg** | 0.69 | 0.71 | 0.69 | 150 |\n",
    "| **Weighted Avg** | 0.72 | 0.69 | 0.70 | 150 |\n",
    "\n",
    "- **Precision (class 1)**: 0.579 — Only 57.9% of predicted buyers actually bought.\n",
    "- **Recall (class 1)**: 0.759 — Model caught 75.9% of actual buyers.\n",
    "- **F1-score (class 1)**: 0.657 — Fair balance between precision and recall.\n",
    "\n",
    "---\n",
    "\n",
    "**Derived Metrics (from Confusion Matrix):**  \n",
    "- **Specificity**: 0.652 → 65.2% of actual non-buyers were correctly identified  \n",
    "- **False Positive Rate (FPR)**: 0.348 → 34.8% of non-buyers were wrongly predicted as buyers  \n",
    "- **False Negative Rate (FNR)**: 0.241 → 24.1% of buyers were missed\n",
    "\n",
    "---\n",
    "\n",
    "**First 5 Predicted Probabilities:**\n",
    "\n",
    "[0.3108 0.6892]  \n",
    "[0.8945 0.1055]  \n",
    "[0.4340 0.5659]  \n",
    "[0.6501 0.3499]  \n",
    "[0.8430 0.1570]  \n",
    "\n",
    "Each row shows [P(not purchase), P(purchase)]. The second number indicates the model's confidence in predicting a customer will purchase.\n",
    "\n",
    "---\n",
    "\n",
    "### ✅ Final Conclusion\n",
    "\n",
    "The SVM model achieved moderate performance, with **strong recall but relatively low precision**, especially for predicting actual purchasers. It is effective at capturing buyers (high recall), but tends to overpredict purchases (low specificity and high false positive rate). Probabilistic outputs give additional interpretability for threshold-based decision-making."
   ]
  },
  {
   "cell_type": "code",
   "execution_count": null,
   "id": "b294f12b-8380-424b-bd74-6ac0609b40ce",
   "metadata": {},
   "outputs": [],
   "source": []
  }
 ],
 "metadata": {
  "kernelspec": {
   "display_name": "Python [conda env:base] *",
   "language": "python",
   "name": "conda-base-py"
  },
  "language_info": {
   "codemirror_mode": {
    "name": "ipython",
    "version": 3
   },
   "file_extension": ".py",
   "mimetype": "text/x-python",
   "name": "python",
   "nbconvert_exporter": "python",
   "pygments_lexer": "ipython3",
   "version": "3.12.7"
  }
 },
 "nbformat": 4,
 "nbformat_minor": 5
}
