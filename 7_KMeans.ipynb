{
 "cells": [
  {
   "cell_type": "markdown",
   "id": "12aadd5a",
   "metadata": {},
   "source": [
    "# 7 KMeans"
   ]
  },
  {
   "cell_type": "markdown",
   "id": "95abb787",
   "metadata": {},
   "source": [
    "This notebook uses the same dataset to demonstrate the machine learning model."
   ]
  },
  {
   "cell_type": "code",
   "execution_count": null,
   "id": "18fb32e7",
   "metadata": {},
   "outputs": [],
   "source": [
    "import pandas as pd\n",
    "df = pd.read_csv(\"ml_customer_data.csv\")\n",
    "df.head()"
   ]
  },
  {
   "cell_type": "code",
   "execution_count": null,
   "id": "f025bcde",
   "metadata": {},
   "outputs": [],
   "source": [
    "from sklearn.cluster import KMeans\n",
    "import matplotlib.pyplot as plt\n",
    "\n",
    "X = df[['age', 'salary']]\n",
    "model = KMeans(n_clusters=2, random_state=42)\n",
    "df['cluster'] = model.fit_predict(X)\n",
    "\n",
    "plt.scatter(df['age'], df['salary'], c=df['cluster'], cmap='viridis')\n",
    "plt.xlabel(\"Age\")\n",
    "plt.ylabel(\"Salary\")\n",
    "plt.title(\"KMeans Clustering\")\n",
    "plt.show()"
   ]
  }
 ],
 "metadata": {},
 "nbformat": 4,
 "nbformat_minor": 5
}
